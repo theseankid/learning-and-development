{
 "cells": [
  {
   "cell_type": "code",
   "execution_count": 1,
   "id": "12c3d537",
   "metadata": {},
   "outputs": [],
   "source": [
    "from scipy import stats"
   ]
  },
  {
   "cell_type": "code",
   "execution_count": 3,
   "id": "f6baf1d2",
   "metadata": {},
   "outputs": [
    {
     "data": {
      "text/plain": [
       "3.3158295010135217"
      ]
     },
     "execution_count": 3,
     "metadata": {},
     "output_type": "execute_result"
    }
   ],
   "source": [
    "alpha = 0.05\n",
    "dfn, dfd = 2, 30\n",
    "stats.f.ppf(1-alpha, dfn, dfd)"
   ]
  },
  {
   "cell_type": "markdown",
   "id": "091d3b68",
   "metadata": {},
   "source": [
    "# Manually calcualte f-statistic"
   ]
  },
  {
   "cell_type": "code",
   "execution_count": 8,
   "id": "376481c4",
   "metadata": {},
   "outputs": [],
   "source": [
    "import numpy as np"
   ]
  },
  {
   "cell_type": "code",
   "execution_count": 19,
   "id": "1ce763c3",
   "metadata": {},
   "outputs": [],
   "source": [
    "# 3 groups\n",
    "feb = np.array([13,16,16])\n",
    "mar = np.array([21,19,20])\n",
    "apr = np.array([17,19,21])\n",
    "\n",
    "data = np.concatenate([feb,mar,apr])\n",
    "data_mean = data.mean()\n",
    "\n",
    "feb_mean = feb.mean()\n",
    "mar_mean = mar.mean()\n",
    "apr_mean = apr.mean()\n",
    "\n",
    "n_groups = 3\n",
    "\n",
    "SSG = n_groups * ((feb_mean - data_mean)**2 + (mar_mean - data_mean)**2 + (apr_mean - data_mean)**2)\n",
    "df_groups = n_groups - 1\n",
    "\n",
    "SSE = np.concatenate([(feb - feb_mean)**2 , (mar - mar_mean)**2, (apr - apr_mean)**2]).sum()\n",
    "\n",
    "df_Err = (len(feb) - 1)*n_groups\n",
    "\n",
    "MSG = SSG/df_groups\n",
    "MSE = SSE/df_Err\n",
    "\n",
    "F = MSG/MSE\n",
    "\n",
    "f_crit = stats.f.ppf(1-0.05, 2,6)"
   ]
  },
  {
   "cell_type": "code",
   "execution_count": 24,
   "id": "c4db51bc",
   "metadata": {},
   "outputs": [
    {
     "name": "stdout",
     "output_type": "stream",
     "text": [
      "\n",
      "F-statistic: 7.875\n",
      "F-critical:  5.143252849784718\n",
      "Reject Null (H_0)?: True\n",
      "\n"
     ]
    }
   ],
   "source": [
    "print(f'''\n",
    "F-statistic: {F}\n",
    "F-critical:  {f_crit}\n",
    "Reject Null (H_0)?: {f_crit < F}\n",
    "''')"
   ]
  },
  {
   "cell_type": "markdown",
   "id": "31446494",
   "metadata": {},
   "source": [
    "# F-test in python package"
   ]
  },
  {
   "cell_type": "code",
   "execution_count": 26,
   "id": "d73d8f2f",
   "metadata": {},
   "outputs": [],
   "source": [
    "from scipy.stats import f_oneway"
   ]
  },
  {
   "cell_type": "code",
   "execution_count": 27,
   "id": "4c6d81d9",
   "metadata": {},
   "outputs": [],
   "source": [
    "feb = np.array([13,16,16])\n",
    "mar = np.array([21,19,20])\n",
    "apr = np.array([17,19,21])"
   ]
  },
  {
   "cell_type": "code",
   "execution_count": 30,
   "id": "15e47c74",
   "metadata": {
    "scrolled": true
   },
   "outputs": [
    {
     "data": {
      "text/plain": [
       "F_onewayResult(statistic=7.875, pvalue=0.020993070646602975)"
      ]
     },
     "execution_count": 30,
     "metadata": {},
     "output_type": "execute_result"
    }
   ],
   "source": [
    "f_result = f_oneway(feb, mar, apr)\n",
    "f_result"
   ]
  },
  {
   "cell_type": "code",
   "execution_count": 32,
   "id": "5551d127",
   "metadata": {},
   "outputs": [
    {
     "name": "stdout",
     "output_type": "stream",
     "text": [
      "\n",
      "F-statistic: 7.875\n",
      "pvalue: 0.020993070646602975\n",
      "alpha: 0.05\n",
      "Reject Null (H_0)?: True\n",
      "\n"
     ]
    }
   ],
   "source": [
    "alpha = 0.05\n",
    "\n",
    "print(f'''\n",
    "F-statistic: {f_result.statistic}\n",
    "pvalue: {f_result.pvalue}\n",
    "alpha: {alpha}\n",
    "Reject Null (H_0)?: {f_result.pvalue < alpha}\n",
    "''')"
   ]
  },
  {
   "cell_type": "code",
   "execution_count": 34,
   "id": "f03aebae",
   "metadata": {},
   "outputs": [
    {
     "data": {
      "text/plain": [
       "9.766966510994535e-11"
      ]
     },
     "execution_count": 34,
     "metadata": {},
     "output_type": "execute_result"
    }
   ],
   "source": [
    "from statsmodels.stats import proportion\n",
    "\n",
    "count = 100\n",
    "nobs = 1000\n",
    "prop = 0.05\n",
    "proportion.binom_test(count, nobs, prop)"
   ]
  },
  {
   "cell_type": "code",
   "execution_count": 36,
   "id": "a073a2ca",
   "metadata": {},
   "outputs": [
    {
     "data": {
      "text/plain": [
       "(5.2704627669473, 1.360802291135723e-07)"
      ]
     },
     "execution_count": 36,
     "metadata": {},
     "output_type": "execute_result"
    }
   ],
   "source": [
    "proportion.proportions_ztest(count, nobs, prop)"
   ]
  },
  {
   "cell_type": "code",
   "execution_count": null,
   "id": "eee93b89",
   "metadata": {},
   "outputs": [],
   "source": []
  }
 ],
 "metadata": {
  "kernelspec": {
   "display_name": "Python 3 (ipykernel)",
   "language": "python",
   "name": "python3"
  },
  "language_info": {
   "codemirror_mode": {
    "name": "ipython",
    "version": 3
   },
   "file_extension": ".py",
   "mimetype": "text/x-python",
   "name": "python",
   "nbconvert_exporter": "python",
   "pygments_lexer": "ipython3",
   "version": "3.9.7"
  }
 },
 "nbformat": 4,
 "nbformat_minor": 5
}
