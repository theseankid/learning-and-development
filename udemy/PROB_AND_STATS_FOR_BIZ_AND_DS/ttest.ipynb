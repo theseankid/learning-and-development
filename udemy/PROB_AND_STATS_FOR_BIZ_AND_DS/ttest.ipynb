{
 "cells": [
  {
   "cell_type": "markdown",
   "id": "c06e44bc",
   "metadata": {},
   "source": [
    "# Section 4: Statistics"
   ]
  },
  {
   "cell_type": "code",
   "execution_count": 1,
   "id": "bed3615b",
   "metadata": {},
   "outputs": [],
   "source": [
    "import numpy as np"
   ]
  },
  {
   "cell_type": "code",
   "execution_count": 2,
   "id": "c66d365a",
   "metadata": {},
   "outputs": [],
   "source": [
    "x1 = np.array([40,36,42,36,35,35,41,43,34])\n",
    "x2 = np.array([43,41,44,39,37,35,44,46,40])"
   ]
  },
  {
   "cell_type": "code",
   "execution_count": 3,
   "id": "4b5c9e2a",
   "metadata": {},
   "outputs": [],
   "source": [
    "sum_x1 = x1.sum()\n",
    "sum_x2 = x2.sum()"
   ]
  },
  {
   "cell_type": "code",
   "execution_count": 4,
   "id": "4ab2e6b0",
   "metadata": {},
   "outputs": [
    {
     "data": {
      "text/plain": [
       "(342, 369)"
      ]
     },
     "execution_count": 4,
     "metadata": {},
     "output_type": "execute_result"
    }
   ],
   "source": [
    "sum_x1, sum_x2"
   ]
  },
  {
   "cell_type": "code",
   "execution_count": 5,
   "id": "f36920a5",
   "metadata": {},
   "outputs": [],
   "source": [
    "x1bar = sum_x1/len(x1)\n",
    "x2bar = sum_x2/len(x2)"
   ]
  },
  {
   "cell_type": "code",
   "execution_count": 6,
   "id": "568c33d4",
   "metadata": {},
   "outputs": [
    {
     "data": {
      "text/plain": [
       "(38.0, 41.0)"
      ]
     },
     "execution_count": 6,
     "metadata": {},
     "output_type": "execute_result"
    }
   ],
   "source": [
    "x1bar, x2bar"
   ]
  },
  {
   "cell_type": "code",
   "execution_count": 7,
   "id": "42c3112c",
   "metadata": {},
   "outputs": [],
   "source": [
    "x1_diff = x1 - x1bar\n",
    "x2_diff = x2 - x2bar"
   ]
  },
  {
   "cell_type": "code",
   "execution_count": 8,
   "id": "1a2ca3f1",
   "metadata": {},
   "outputs": [
    {
     "name": "stdout",
     "output_type": "stream",
     "text": [
      "x1_diff [ 2. -2.  4. -2. -3. -3.  3.  5. -4.]\n",
      "x2_diff [ 2.  0.  3. -2. -4. -6.  3.  5. -1.]\n"
     ]
    }
   ],
   "source": [
    "print('x1_diff',x1_diff)\n",
    "print('x2_diff',x2_diff)\n",
    "\n"
   ]
  },
  {
   "cell_type": "code",
   "execution_count": 9,
   "id": "7b19dd1a",
   "metadata": {},
   "outputs": [],
   "source": [
    "x1_diff_sq = x1_diff**2\n",
    "x2_diff_sq = x2_diff**2"
   ]
  },
  {
   "cell_type": "code",
   "execution_count": 10,
   "id": "358fed43",
   "metadata": {},
   "outputs": [
    {
     "name": "stdout",
     "output_type": "stream",
     "text": [
      "x1_diff_sq [ 4.  4. 16.  4.  9.  9.  9. 25. 16.]\n",
      "x2_diff_sq [ 4.  0.  9.  4. 16. 36.  9. 25.  1.]\n"
     ]
    }
   ],
   "source": [
    "print('x1_diff_sq', x1_diff_sq)\n",
    "print('x2_diff_sq', x2_diff_sq)"
   ]
  },
  {
   "cell_type": "code",
   "execution_count": 11,
   "id": "8a1ba816",
   "metadata": {},
   "outputs": [],
   "source": [
    "s2_x1 = x1_diff_sq.sum()/(len(x1)-1)\n",
    "s2_x2 = x2_diff_sq.sum()/(len(x2)-1)"
   ]
  },
  {
   "cell_type": "code",
   "execution_count": 12,
   "id": "b7c2f45b",
   "metadata": {},
   "outputs": [
    {
     "name": "stdout",
     "output_type": "stream",
     "text": [
      "s2_x1 12.0\n",
      "s2_x2 13.0\n"
     ]
    }
   ],
   "source": [
    "print('s2_x1', s2_x1)\n",
    "print('s2_x2', s2_x2)"
   ]
  },
  {
   "cell_type": "code",
   "execution_count": 13,
   "id": "92625b56",
   "metadata": {},
   "outputs": [],
   "source": [
    "t_stat=np.abs(x1bar - x2bar)/np.sqrt(s2_x1/len(x1) + s2_x2/len(x2))"
   ]
  },
  {
   "cell_type": "code",
   "execution_count": 14,
   "id": "ac6fd1c7",
   "metadata": {},
   "outputs": [
    {
     "data": {
      "text/plain": [
       "1.7999999999999998"
      ]
     },
     "execution_count": 14,
     "metadata": {},
     "output_type": "execute_result"
    }
   ],
   "source": [
    "t_stat"
   ]
  },
  {
   "cell_type": "markdown",
   "id": "92743ed2",
   "metadata": {},
   "source": [
    "# t-Test"
   ]
  },
  {
   "cell_type": "code",
   "execution_count": 15,
   "id": "364b4f29",
   "metadata": {},
   "outputs": [],
   "source": [
    "from scipy.stats import ttest_ind"
   ]
  },
  {
   "cell_type": "code",
   "execution_count": 16,
   "id": "c972983e",
   "metadata": {},
   "outputs": [],
   "source": [
    "test_stat = ttest_ind(x1,x2, alternative = 'less')"
   ]
  },
  {
   "cell_type": "code",
   "execution_count": 17,
   "id": "bcb80c27",
   "metadata": {},
   "outputs": [
    {
     "name": "stdout",
     "output_type": "stream",
     "text": [
      "Ttest_indResult(statistic=-1.7999999999999998, pvalue=0.04537161736045921)\n"
     ]
    }
   ],
   "source": [
    "print(test_stat)"
   ]
  },
  {
   "cell_type": "code",
   "execution_count": 19,
   "id": "42918d11",
   "metadata": {},
   "outputs": [],
   "source": [
    "import pandas as pd"
   ]
  },
  {
   "cell_type": "code",
   "execution_count": 21,
   "id": "e3ae5a35",
   "metadata": {},
   "outputs": [
    {
     "data": {
      "text/plain": [
       "count     9.000000\n",
       "mean     38.000000\n",
       "std       3.464102\n",
       "min      34.000000\n",
       "25%      35.000000\n",
       "50%      36.000000\n",
       "75%      41.000000\n",
       "max      43.000000\n",
       "dtype: float64"
      ]
     },
     "execution_count": 21,
     "metadata": {},
     "output_type": "execute_result"
    }
   ],
   "source": [
    "pd.Series(x1).describe()"
   ]
  },
  {
   "cell_type": "markdown",
   "id": "dca74c7b",
   "metadata": {},
   "source": [
    "# Binomial Test"
   ]
  },
  {
   "cell_type": "code",
   "execution_count": 31,
   "id": "38d62968",
   "metadata": {},
   "outputs": [],
   "source": [
    "from scipy.stats import binomtest"
   ]
  },
  {
   "cell_type": "code",
   "execution_count": 45,
   "id": "e86bb2a5",
   "metadata": {},
   "outputs": [
    {
     "name": "stdout",
     "output_type": "stream",
     "text": [
      "k: 10\n",
      "n: 1000\n",
      "alternative: two-sided\n",
      "proportion_estimate: 0.01\n",
      "pvalue: 6.476680939727492e-12\n"
     ]
    }
   ],
   "source": [
    "count = 10\n",
    "nobs = 1000\n",
    "prop = 0.05\n",
    "\n",
    "binom_result = binomtest(count, nobs, prop)\n",
    "\n",
    "for k,v in binom_result.__dict__.items():\n",
    "    print(f\"\"\"{k}: {v}\"\"\" )"
   ]
  },
  {
   "cell_type": "markdown",
   "id": "2fb958b9",
   "metadata": {},
   "source": [
    "# Proportions Z-test"
   ]
  },
  {
   "cell_type": "code",
   "execution_count": 33,
   "id": "7b3f68c2",
   "metadata": {},
   "outputs": [],
   "source": [
    "import numpy as np\n",
    "from statsmodels.stats.proportion import proportions_ztest\n",
    "count = np.array([5, 12])\n",
    "nobs = np.array([83, 99])"
   ]
  },
  {
   "cell_type": "code",
   "execution_count": 35,
   "id": "fcf402ba",
   "metadata": {},
   "outputs": [],
   "source": [
    "ztest_result = proportions_ztest(count, nobs)"
   ]
  },
  {
   "cell_type": "code",
   "execution_count": 43,
   "id": "66171250",
   "metadata": {},
   "outputs": [
    {
     "name": "stdout",
     "output_type": "stream",
     "text": [
      "statistic: -1.4078\n",
      "\n",
      "pval: 0.1592\n",
      "\n"
     ]
    }
   ],
   "source": [
    "print(\n",
    "f'''statistic: {ztest_result[0]:0.4f}\n",
    "\n",
    "pval: {ztest_result[1]:0.4f}\n",
    "'''\n",
    ")"
   ]
  },
  {
   "cell_type": "markdown",
   "id": "83f5a362",
   "metadata": {},
   "source": [
    "# Chi-Square Test\n"
   ]
  },
  {
   "cell_type": "code",
   "execution_count": 46,
   "id": "31ae5dc9",
   "metadata": {},
   "outputs": [],
   "source": [
    "from scipy.stats import chi2"
   ]
  },
  {
   "cell_type": "code",
   "execution_count": 47,
   "id": "087ec6d1",
   "metadata": {},
   "outputs": [
    {
     "data": {
      "text/plain": [
       "11.070497693516355"
      ]
     },
     "execution_count": 47,
     "metadata": {},
     "output_type": "execute_result"
    }
   ],
   "source": [
    "alpha = 0.05\n",
    "degf = 6 - 1\n",
    "chi2.isf(alpha, degf)"
   ]
  },
  {
   "cell_type": "code",
   "execution_count": 48,
   "id": "3978aa61",
   "metadata": {},
   "outputs": [],
   "source": [
    "from scipy.stats import chisquare\n",
    "\n",
    "# servers: A, B, C, D, E, F\n",
    "obs = [46, 36, 52, 26, 42, 38]\n",
    "chi_results = chisquare(obs)\n"
   ]
  },
  {
   "cell_type": "code",
   "execution_count": 49,
   "id": "fd9a5170",
   "metadata": {},
   "outputs": [],
   "source": [
    "alpha = 0.05\n",
    "degf = len(obs) - 1\n",
    "chi_crit = chi2.isf(alpha, degf)"
   ]
  },
  {
   "cell_type": "code",
   "execution_count": 51,
   "id": "5c74b37a",
   "metadata": {},
   "outputs": [
    {
     "name": "stdout",
     "output_type": "stream",
     "text": [
      "Power_divergenceResult(statistic=10.0, pvalue=0.07523524614651217)\n",
      "11.070497693516355\n"
     ]
    }
   ],
   "source": [
    "print(chi_results)\n",
    "print(chi_crit)"
   ]
  },
  {
   "cell_type": "markdown",
   "id": "c78139da",
   "metadata": {},
   "source": [
    "this implies that even though C had twice as many events as D, it is still statistically likely to happen"
   ]
  },
  {
   "cell_type": "code",
   "execution_count": null,
   "id": "47befdbe",
   "metadata": {},
   "outputs": [],
   "source": []
  }
 ],
 "metadata": {
  "kernelspec": {
   "display_name": "Python 3 (ipykernel)",
   "language": "python",
   "name": "python3"
  },
  "language_info": {
   "codemirror_mode": {
    "name": "ipython",
    "version": 3
   },
   "file_extension": ".py",
   "mimetype": "text/x-python",
   "name": "python",
   "nbconvert_exporter": "python",
   "pygments_lexer": "ipython3",
   "version": "3.9.7"
  }
 },
 "nbformat": 4,
 "nbformat_minor": 5
}
